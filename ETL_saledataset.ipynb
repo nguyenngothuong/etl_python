{
 "cells": [
  {
   "cell_type": "code",
   "execution_count": null,
   "metadata": {},
   "outputs": [],
   "source": [
    "import pandas as pd"
   ]
  },
  {
   "cell_type": "code",
   "execution_count": null,
   "metadata": {},
   "outputs": [],
   "source": [
    "excel_file_path = r\"G:\\My Drive\\HỌC TẬP DUE\\NNT_năm 4 kì 1\\ETL_Sale\\ETL SALE PYTHON\\SaleDataset.xlsx\"\n",
    "\n",
    "\n",
    "df_ORDER = pd.read_excel(excel_file_path, sheet_name=\"ORDER\")\n",
    "df_CUSTOMER = pd.read_excel(excel_file_path, sheet_name=\"CUSTOMER\")\n",
    "df_PRODUCT = pd.read_excel(excel_file_path, sheet_name=\"PRODUCT\")\n",
    "\n",
    "\n",
    "print(df_ORDER)\n",
    "print(df_CUSTOMER)\n",
    "print(df_PRODUCT)"
   ]
  },
  {
   "cell_type": "code",
   "execution_count": null,
   "metadata": {},
   "outputs": [],
   "source": [
    "df_order_product = pd.merge(df_ORDER, df_PRODUCT, on='ProductID', how='outer')\n",
    "df_order_product\n"
   ]
  },
  {
   "cell_type": "markdown",
   "metadata": {},
   "source": [
    "nối order_product với customer"
   ]
  },
  {
   "cell_type": "code",
   "execution_count": null,
   "metadata": {},
   "outputs": [],
   "source": [
    "df_OPC = pd.merge(df_order_product, df_CUSTOMER, on='CustomerId', how='outer')\n",
    "df_OPC\n"
   ]
  },
  {
   "cell_type": "code",
   "execution_count": null,
   "metadata": {},
   "outputs": [],
   "source": [
    "df_OPC['Profit'] = df_OPC['Sales'] - df_OPC['COGS']"
   ]
  },
  {
   "cell_type": "code",
   "execution_count": null,
   "metadata": {},
   "outputs": [],
   "source": [
    "\n",
    "df_OPC"
   ]
  },
  {
   "cell_type": "code",
   "execution_count": 36,
   "metadata": {},
   "outputs": [],
   "source": [
    "import yaml\n",
    "import pyodbc\n",
    "from sqlalchemy import create_engine\n",
    "\n",
    "# Đọc thông tin từ file YAML\n",
    "with open('config.yaml', 'r') as yaml_file:\n",
    "    config = yaml.safe_load(yaml_file)\n",
    "\n",
    "server = config['database']['server']\n",
    "database = config['database']['database']\n",
    "username = config['database']['username']\n",
    "password = config['database']['password']\n",
    "\n",
    "\n",
    "# # Chuỗi kết nối SQL Server\n",
    "# conn_str = f'mssql+pyodbc://{username}:{password}@{server}/{database}?driver=ODBC+Driver+17+for+SQL+Server&charset=utf8'\n",
    "\n",
    "# Tạo chuỗi kết nối cho pyodbc\n",
    "conn_str = f'DRIVER={{ODBC Driver 17 for SQL Server}};SERVER={server};Database={database};UID={username};PWD={password}'\n",
    "conx = pyodbc.connect(conn_str)\n",
    "\n",
    "# Tạo URL kết nối cho SQLAlchemy\n",
    "db_url = f\"mssql+pyodbc://{username}:{password}@{server}/{database}?driver=ODBC+Driver+17+for+SQL+Server\"\n",
    "engine = create_engine(db_url)"
   ]
  },
  {
   "cell_type": "markdown",
   "metadata": {},
   "source": [
    "load data vào"
   ]
  },
  {
   "cell_type": "code",
   "execution_count": 33,
   "metadata": {},
   "outputs": [],
   "source": [
    "# Đổi 'table_name' thành tên bảng bạn muốn lưu dữ liệu vào\n",
    "table_name = 'ETL_SaleDataset'\n",
    "\n",
    "# Lưu DataFrame vào cơ sở dữ liệu\n",
    "df_OPC.to_sql(table_name, con=engine, if_exists='replace', index=False)\n",
    "\n",
    "# Đóng kết nối pyodbc\n",
    "conx.close()"
   ]
  },
  {
   "cell_type": "markdown",
   "metadata": {},
   "source": [
    "chạy thử vài câu truy vấn"
   ]
  },
  {
   "cell_type": "code",
   "execution_count": 41,
   "metadata": {},
   "outputs": [
    {
     "name": "stdout",
     "output_type": "stream",
     "text": [
      "('Az-Mc-0001', datetime.datetime(2011, 1, 23, 0, 0), 'West', 'Qu-BF-009', 20.0, 23.0, 621.0, 333.5, 'Quad', '70 Meter Aussie Round', 'Roger Perry', 28, 25, 'Julio', 'Gondek', 7341.38, 'JuGo@gmail.com', '3789 4th Blvd.', 'Seattle', 981152.0, 287.5)\n",
      "('Az-Mc-0052', datetime.datetime(2011, 2, 16, 0, 0), 'East', 'Qu-BF-009', 20.0, 26.0, 702.0, 377.0, 'Quad', '70 Meter Aussie Round', 'Roger Perry', 28, 25, 'Julio', 'Gondek', 7341.38, 'JuGo@gmail.com', '3789 4th Blvd.', 'Seattle', 981152.0, 325.0)\n",
      "('Az-Mc-0239', datetime.datetime(2011, 2, 24, 0, 0), 'MidWest', 'Qu-BF-009', 20.0, 26.0, 702.0, 377.0, 'Quad', '70 Meter Aussie Round', 'Roger Perry', 28, 25, 'Julio', 'Gondek', 7341.38, 'JuGo@gmail.com', '3789 4th Blvd.', 'Seattle', 981152.0, 325.0)\n",
      "('Az-Mc-0274', datetime.datetime(2011, 5, 27, 0, 0), 'West', 'Qu-BF-009', 20.0, 27.0, 729.0, 391.5, 'Quad', '70 Meter Aussie Round', 'Roger Perry', 28, 25, 'Julio', 'Gondek', 7341.38, 'JuGo@gmail.com', '3789 4th Blvd.', 'Seattle', 981152.0, 337.5)\n",
      "('Az-Mc-0287', datetime.datetime(2011, 2, 6, 0, 0), 'MidWest', 'Qu-BF-009', 20.0, 29.0, 783.0, 420.5, 'Quad', '70 Meter Aussie Round', 'Roger Perry', 28, 25, 'Julio', 'Gondek', 7341.38, 'JuGo@gmail.com', '3789 4th Blvd.', 'Seattle', 981152.0, 362.5)\n",
      "('Az-Mc-0354', datetime.datetime(2011, 4, 20, 0, 0), 'MidWest', 'Qu-BF-009', 20.0, 64.0, 1728.0, 928.0, 'Quad', '70 Meter Aussie Round', 'Roger Perry', 28, 25, 'Julio', 'Gondek', 7341.38, 'JuGo@gmail.com', '3789 4th Blvd.', 'Seattle', 981152.0, 800.0)\n",
      "('Az-Mc-1110', datetime.datetime(2011, 5, 9, 0, 0), 'West', 'Qu-BF-009', 20.0, 9.0, 243.0, 130.5, 'Quad', '70 Meter Aussie Round', 'Roger Perry', 28, 25, 'Julio', 'Gondek', 7341.38, 'JuGo@gmail.com', '3789 4th Blvd.', 'Seattle', 981152.0, 112.5)\n",
      "('Az-Mc-1140', datetime.datetime(2011, 3, 26, 0, 0), 'MidWest', 'Qu-BF-009', 20.0, 35.0, 945.0, 507.5, 'Quad', '70 Meter Aussie Round', 'Roger Perry', 28, 25, 'Julio', 'Gondek', 7341.38, 'JuGo@gmail.com', '3789 4th Blvd.', 'Seattle', 981152.0, 437.5)\n",
      "('Az-Mc-0019', datetime.datetime(2011, 5, 15, 0, 0), 'West', 'Su-BF-003', 20.0, 65.0, 1235.0, 520.0, 'Sunshine', '30 meter Accuracy', 'Gel Booms', 27, 19, 'Julio', 'Gondek', 7341.38, 'JuGo@gmail.com', '3789 4th Blvd.', 'Seattle', 981152.0, 715.0)\n",
      "('Az-Mc-0047', datetime.datetime(2011, 1, 3, 0, 0), 'MidWest', 'Su-BF-003', 20.0, 51.0, 969.0, 408.0, 'Sunshine', '30 meter Accuracy', 'Gel Booms', 27, 19, 'Julio', 'Gondek', 7341.38, 'JuGo@gmail.com', '3789 4th Blvd.', 'Seattle', 981152.0, 561.0)\n",
      "('Az-Mc-0074', datetime.datetime(2011, 4, 2, 0, 0), 'West', 'Su-BF-003', 20.0, 42.0, 798.0, 336.0, 'Sunshine', '30 meter Accuracy', 'Gel Booms', 27, 19, 'Julio', 'Gondek', 7341.38, 'JuGo@gmail.com', '3789 4th Blvd.', 'Seattle', 981152.0, 462.0)\n",
      "('Az-Mc-0562', datetime.datetime(2011, 3, 26, 0, 0), 'West', 'Su-BF-003', 20.0, 6.0, 114.0, 48.0, 'Sunshine', '30 meter Accuracy', 'Gel Booms', 27, 19, 'Julio', 'Gondek', 7341.38, 'JuGo@gmail.com', '3789 4th Blvd.', 'Seattle', 981152.0, 66.0)\n",
      "('Az-Mc-0645', datetime.datetime(2011, 3, 14, 0, 0), 'West', 'Su-BF-003', 20.0, 35.0, 665.0, 280.0, 'Sunshine', '30 meter Accuracy', 'Gel Booms', 27, 19, 'Julio', 'Gondek', 7341.38, 'JuGo@gmail.com', '3789 4th Blvd.', 'Seattle', 981152.0, 385.0)\n",
      "('Az-Mc-0767', datetime.datetime(2011, 5, 20, 0, 0), 'East', 'Su-BF-003', 20.0, 61.0, 1159.0, 488.0, 'Sunshine', '30 meter Accuracy', 'Gel Booms', 27, 19, 'Julio', 'Gondek', 7341.38, 'JuGo@gmail.com', '3789 4th Blvd.', 'Seattle', 981152.0, 671.0)\n",
      "('Az-Mc-0837', datetime.datetime(2011, 2, 22, 0, 0), 'MidWest', 'Su-BF-003', 20.0, 39.0, 741.0, 312.0, 'Sunshine', '30 meter Accuracy', 'Gel Booms', 27, 19, 'Julio', 'Gondek', 7341.38, 'JuGo@gmail.com', '3789 4th Blvd.', 'Seattle', 981152.0, 429.0)\n",
      "('Az-Mc-0886', datetime.datetime(2011, 5, 19, 0, 0), 'MidWest', 'Su-BF-003', 20.0, 48.0, 912.0, 384.0, 'Sunshine', '30 meter Accuracy', 'Gel Booms', 27, 19, 'Julio', 'Gondek', 7341.38, 'JuGo@gmail.com', '3789 4th Blvd.', 'Seattle', 981152.0, 528.0)\n",
      "('Az-Mc-1059', datetime.datetime(2011, 1, 26, 0, 0), 'East', 'Su-BF-003', 20.0, 26.0, 494.0, 208.0, 'Sunshine', '30 meter Accuracy', 'Gel Booms', 27, 19, 'Julio', 'Gondek', 7341.38, 'JuGo@gmail.com', '3789 4th Blvd.', 'Seattle', 981152.0, 286.0)\n",
      "('Az-Mc-0162', datetime.datetime(2011, 6, 3, 0, 0), 'East', 'Ss-BF-004', 20.0, 55.0, 1155.0, 508.75, 'Sunset', '40 Meter Aussie Round', 'Gel Booms', 32, 21, 'Julio', 'Gondek', 7341.38, 'JuGo@gmail.com', '3789 4th Blvd.', 'Seattle', 981152.0, 646.25)\n",
      "('Az-Mc-0166', datetime.datetime(2011, 4, 1, 0, 0), 'West', 'Ss-BF-004', 20.0, 46.0, 966.0, 425.5, 'Sunset', '40 Meter Aussie Round', 'Gel Booms', 32, 21, 'Julio', 'Gondek', 7341.38, 'JuGo@gmail.com', '3789 4th Blvd.', 'Seattle', 981152.0, 540.5)\n",
      "('Az-Mc-0253', datetime.datetime(2011, 1, 24, 0, 0), 'East', 'Ss-BF-004', 20.0, 26.0, 546.0, 240.5, 'Sunset', '40 Meter Aussie Round', 'Gel Booms', 32, 21, 'Julio', 'Gondek', 7341.38, 'JuGo@gmail.com', '3789 4th Blvd.', 'Seattle', 981152.0, 305.5)\n",
      "('Az-Mc-0305', datetime.datetime(2011, 6, 6, 0, 0), 'MidWest', 'Ss-BF-004', 20.0, 43.0, 903.0, 397.75, 'Sunset', '40 Meter Aussie Round', 'Gel Booms', 32, 21, 'Julio', 'Gondek', 7341.38, 'JuGo@gmail.com', '3789 4th Blvd.', 'Seattle', 981152.0, 505.25)\n",
      "('Az-Mc-0462', datetime.datetime(2011, 1, 27, 0, 0), 'South', 'Ss-BF-004', 20.0, 15.0, 315.0, 138.75, 'Sunset', '40 Meter Aussie Round', 'Gel Booms', 32, 21, 'Julio', 'Gondek', 7341.38, 'JuGo@gmail.com', '3789 4th Blvd.', 'Seattle', 981152.0, 176.25)\n",
      "('Az-Mc-0620', datetime.datetime(2011, 4, 17, 0, 0), 'South', 'Ss-BF-004', 20.0, 58.0, 1218.0, 536.5, 'Sunset', '40 Meter Aussie Round', 'Gel Booms', 32, 21, 'Julio', 'Gondek', 7341.38, 'JuGo@gmail.com', '3789 4th Blvd.', 'Seattle', 981152.0, 681.5)\n",
      "('Az-Mc-0643', datetime.datetime(2011, 3, 7, 0, 0), 'South', 'Ss-BF-004', 20.0, 16.0, 336.0, 148.0, 'Sunset', '40 Meter Aussie Round', 'Gel Booms', 32, 21, 'Julio', 'Gondek', 7341.38, 'JuGo@gmail.com', '3789 4th Blvd.', 'Seattle', 981152.0, 188.0)\n",
      "('Az-Mc-0653', datetime.datetime(2011, 6, 18, 0, 0), 'MidWest', 'Ss-BF-004', 20.0, 51.0, 1071.0, 471.75, 'Sunset', '40 Meter Aussie Round', 'Gel Booms', 32, 21, 'Julio', 'Gondek', 7341.38, 'JuGo@gmail.com', '3789 4th Blvd.', 'Seattle', 981152.0, 599.25)\n",
      "('Az-Mc-0694', datetime.datetime(2011, 6, 26, 0, 0), 'West', 'Ss-BF-004', 20.0, 23.0, 483.0, 212.75, 'Sunset', '40 Meter Aussie Round', 'Gel Booms', 32, 21, 'Julio', 'Gondek', 7341.38, 'JuGo@gmail.com', '3789 4th Blvd.', 'Seattle', 981152.0, 270.25)\n",
      "('Az-Mc-0726', datetime.datetime(2011, 6, 20, 0, 0), 'MidWest', 'Ss-BF-004', 20.0, 10.0, 210.0, 92.5, 'Sunset', '40 Meter Aussie Round', 'Gel Booms', 32, 21, 'Julio', 'Gondek', 7341.38, 'JuGo@gmail.com', '3789 4th Blvd.', 'Seattle', 981152.0, 117.5)\n",
      "('Az-Mc-0915', datetime.datetime(2011, 1, 2, 0, 0), 'West', 'Ss-BF-004', 20.0, 61.0, 1281.0, 564.25, 'Sunset', '40 Meter Aussie Round', 'Gel Booms', 32, 21, 'Julio', 'Gondek', 7341.38, 'JuGo@gmail.com', '3789 4th Blvd.', 'Seattle', 981152.0, 716.75)\n",
      "('Az-Mc-0302', datetime.datetime(2011, 1, 4, 0, 0), 'West', 'Ca-BF-002', 20.0, 37.0, 851.0, 407.0, 'Carlota', '20 meter Trick Catch', 'Gel Booms', 25, 23, 'Julio', 'Gondek', 7341.38, 'JuGo@gmail.com', '3789 4th Blvd.', 'Seattle', 981152.0, 444.0)\n",
      "('Az-Mc-0707', datetime.datetime(2011, 2, 3, 0, 0), 'MidWest', 'Ca-BF-002', 20.0, 17.0, 391.0, 187.0, 'Carlota', '20 meter Trick Catch', 'Gel Booms', 25, 23, 'Julio', 'Gondek', 7341.38, 'JuGo@gmail.com', '3789 4th Blvd.', 'Seattle', 981152.0, 204.0)\n",
      "('Az-Mc-0780', datetime.datetime(2011, 4, 18, 0, 0), 'South', 'Ca-BF-002', 20.0, 24.0, 552.0, 264.0, 'Carlota', '20 meter Trick Catch', 'Gel Booms', 25, 23, 'Julio', 'Gondek', 7341.38, 'JuGo@gmail.com', '3789 4th Blvd.', 'Seattle', 981152.0, 288.0)\n",
      "('Az-Mc-0791', datetime.datetime(2011, 6, 5, 0, 0), 'West', 'Ca-BF-002', 20.0, 57.0, 1311.0, 627.0, 'Carlota', '20 meter Trick Catch', 'Gel Booms', 25, 23, 'Julio', 'Gondek', 7341.38, 'JuGo@gmail.com', '3789 4th Blvd.', 'Seattle', 981152.0, 684.0)\n",
      "('Az-Mc-1032', datetime.datetime(2011, 1, 3, 0, 0), 'East', 'Ca-BF-002', 20.0, 65.0, 1495.0, 715.0, 'Carlota', '20 meter Trick Catch', 'Gel Booms', 25, 23, 'Julio', 'Gondek', 7341.38, 'JuGo@gmail.com', '3789 4th Blvd.', 'Seattle', 981152.0, 780.0)\n",
      "('Az-Mc-0032', datetime.datetime(2011, 6, 24, 0, 0), 'MidWest', 'Be-BF-001', 20.0, 64.0, 1408.0, 640.0, 'Bellen', '20 meter Juggler', 'Gel Booms', 24, 22, 'Julio', 'Gondek', 7341.38, 'JuGo@gmail.com', '3789 4th Blvd.', 'Seattle', 981152.0, 768.0)\n",
      "('Az-Mc-0181', datetime.datetime(2011, 3, 17, 0, 0), 'South', 'Be-BF-001', 20.0, 29.0, 638.0, 290.0, 'Bellen', '20 meter Juggler', 'Gel Booms', 24, 22, 'Julio', 'Gondek', 7341.38, 'JuGo@gmail.com', '3789 4th Blvd.', 'Seattle', 981152.0, 348.0)\n",
      "('Az-Mc-0555', datetime.datetime(2011, 3, 13, 0, 0), 'South', 'Be-BF-001', 20.0, 36.0, 792.0, 360.0, 'Bellen', '20 meter Juggler', 'Gel Booms', 24, 22, 'Julio', 'Gondek', 7341.38, 'JuGo@gmail.com', '3789 4th Blvd.', 'Seattle', 981152.0, 432.0)\n",
      "('Az-Mc-0633', datetime.datetime(2011, 3, 29, 0, 0), 'South', 'Be-BF-001', 20.0, 15.0, 330.0, 150.0, 'Bellen', '20 meter Juggler', 'Gel Booms', 24, 22, 'Julio', 'Gondek', 7341.38, 'JuGo@gmail.com', '3789 4th Blvd.', 'Seattle', 981152.0, 180.0)\n",
      "('Az-Mc-0636', datetime.datetime(2011, 3, 13, 0, 0), 'MidWest', 'Be-BF-001', 20.0, 30.0, 660.0, 300.0, 'Bellen', '20 meter Juggler', 'Gel Booms', 24, 22, 'Julio', 'Gondek', 7341.38, 'JuGo@gmail.com', '3789 4th Blvd.', 'Seattle', 981152.0, 360.0)\n",
      "('Az-Mc-0663', datetime.datetime(2011, 4, 28, 0, 0), 'South', 'Be-BF-001', 20.0, 7.0, 154.0, 70.0, 'Bellen', '20 meter Juggler', 'Gel Booms', 24, 22, 'Julio', 'Gondek', 7341.38, 'JuGo@gmail.com', '3789 4th Blvd.', 'Seattle', 981152.0, 84.0)\n",
      "('Az-Mc-0970', datetime.datetime(2011, 6, 17, 0, 0), 'MidWest', 'Be-BF-001', 20.0, 56.0, 1232.0, 560.0, 'Bellen', '20 meter Juggler', 'Gel Booms', 24, 22, 'Julio', 'Gondek', 7341.38, 'JuGo@gmail.com', '3789 4th Blvd.', 'Seattle', 981152.0, 672.0)\n",
      "('Az-Mc-0987', datetime.datetime(2011, 6, 17, 0, 0), 'West', 'Be-BF-001', 20.0, 14.0, 308.0, 140.0, 'Bellen', '20 meter Juggler', 'Gel Booms', 24, 22, 'Julio', 'Gondek', 7341.38, 'JuGo@gmail.com', '3789 4th Blvd.', 'Seattle', 981152.0, 168.0)\n",
      "('Az-Mc-1085', datetime.datetime(2011, 4, 13, 0, 0), 'East', 'Be-BF-001', 20.0, 39.0, 858.0, 390.0, 'Bellen', '20 meter Juggler', 'Gel Booms', 24, 22, 'Julio', 'Gondek', 7341.38, 'JuGo@gmail.com', '3789 4th Blvd.', 'Seattle', 981152.0, 468.0)\n",
      "('Az-Mc-0004', datetime.datetime(2011, 6, 13, 0, 0), 'MidWest', 'Qu-BF-009', 3.0, 24.0, 648.0, 348.0, 'Quad', '70 Meter Aussie Round', 'Roger Perry', 28, 25, 'Howard', 'Shah', 7350.44, 'HoSh@gmail.com', '316 66th Blvd.', 'Kent', 981244.0, 300.0)\n",
      "('Az-Mc-0195', datetime.datetime(2011, 4, 12, 0, 0), 'East', 'Qu-BF-009', 3.0, 56.0, 1512.0, 812.0, 'Quad', '70 Meter Aussie Round', 'Roger Perry', 28, 25, 'Howard', 'Shah', 7350.44, 'HoSh@gmail.com', '316 66th Blvd.', 'Kent', 981244.0, 700.0)\n",
      "('Az-Mc-0678', datetime.datetime(2011, 1, 19, 0, 0), 'MidWest', 'Qu-BF-009', 3.0, 37.0, 999.0, 536.5, 'Quad', '70 Meter Aussie Round', 'Roger Perry', 28, 25, 'Howard', 'Shah', 7350.44, 'HoSh@gmail.com', '316 66th Blvd.', 'Kent', 981244.0, 462.5)\n",
      "('Az-Mc-0866', datetime.datetime(2011, 4, 6, 0, 0), 'East', 'Qu-BF-009', 3.0, 37.0, 999.0, 536.5, 'Quad', '70 Meter Aussie Round', 'Roger Perry', 28, 25, 'Howard', 'Shah', 7350.44, 'HoSh@gmail.com', '316 66th Blvd.', 'Kent', 981244.0, 462.5)\n",
      "('Az-Mc-1061', datetime.datetime(2011, 2, 9, 0, 0), 'MidWest', 'Qu-BF-009', 3.0, 56.0, 1512.0, 812.0, 'Quad', '70 Meter Aussie Round', 'Roger Perry', 28, 25, 'Howard', 'Shah', 7350.44, 'HoSh@gmail.com', '316 66th Blvd.', 'Kent', 981244.0, 700.0)\n",
      "('Az-Mc-0259', datetime.datetime(2011, 6, 5, 0, 0), 'East', 'Su-BF-003', 3.0, 53.0, 1007.0, 424.0, 'Sunshine', '30 meter Accuracy', 'Gel Booms', 27, 19, 'Howard', 'Shah', 7350.44, 'HoSh@gmail.com', '316 66th Blvd.', 'Kent', 981244.0, 583.0)\n",
      "('Az-Mc-0267', datetime.datetime(2011, 6, 20, 0, 0), 'West', 'Su-BF-003', 3.0, 21.0, 399.0, 168.0, 'Sunshine', '30 meter Accuracy', 'Gel Booms', 27, 19, 'Howard', 'Shah', 7350.44, 'HoSh@gmail.com', '316 66th Blvd.', 'Kent', 981244.0, 231.0)\n",
      "('Az-Mc-0318', datetime.datetime(2011, 5, 15, 0, 0), 'East', 'Su-BF-003', 3.0, 46.0, 874.0, 368.0, 'Sunshine', '30 meter Accuracy', 'Gel Booms', 27, 19, 'Howard', 'Shah', 7350.44, 'HoSh@gmail.com', '316 66th Blvd.', 'Kent', 981244.0, 506.0)\n",
      "('Az-Mc-0594', datetime.datetime(2011, 5, 23, 0, 0), 'East', 'Su-BF-003', 3.0, 29.0, 551.0, 232.0, 'Sunshine', '30 meter Accuracy', 'Gel Booms', 27, 19, 'Howard', 'Shah', 7350.44, 'HoSh@gmail.com', '316 66th Blvd.', 'Kent', 981244.0, 319.0)\n",
      "('Az-Mc-0691', datetime.datetime(2011, 6, 28, 0, 0), 'MidWest', 'Su-BF-003', 3.0, 60.0, 1140.0, 480.0, 'Sunshine', '30 meter Accuracy', 'Gel Booms', 27, 19, 'Howard', 'Shah', 7350.44, 'HoSh@gmail.com', '316 66th Blvd.', 'Kent', 981244.0, 660.0)\n",
      "('Az-Mc-0925', datetime.datetime(2011, 3, 15, 0, 0), 'West', 'Su-BF-003', 3.0, 58.0, 1102.0, 464.0, 'Sunshine', '30 meter Accuracy', 'Gel Booms', 27, 19, 'Howard', 'Shah', 7350.44, 'HoSh@gmail.com', '316 66th Blvd.', 'Kent', 981244.0, 638.0)\n",
      "('Az-Mc-0972', datetime.datetime(2011, 4, 11, 0, 0), 'South', 'Su-BF-003', 3.0, 41.0, 779.0, 328.0, 'Sunshine', '30 meter Accuracy', 'Gel Booms', 27, 19, 'Howard', 'Shah', 7350.44, 'HoSh@gmail.com', '316 66th Blvd.', 'Kent', 981244.0, 451.0)\n",
      "('Az-Mc-1102', datetime.datetime(2011, 3, 24, 0, 0), 'South', 'Su-BF-003', 3.0, 10.0, 190.0, 80.0, 'Sunshine', '30 meter Accuracy', 'Gel Booms', 27, 19, 'Howard', 'Shah', 7350.44, 'HoSh@gmail.com', '316 66th Blvd.', 'Kent', 981244.0, 110.0)\n",
      "('Az-Mc-1213', datetime.datetime(2011, 2, 15, 0, 0), 'West', 'Su-BF-003', 3.0, 33.0, 627.0, 264.0, 'Sunshine', '30 meter Accuracy', 'Gel Booms', 27, 19, 'Howard', 'Shah', 7350.44, 'HoSh@gmail.com', '316 66th Blvd.', 'Kent', 981244.0, 363.0)\n",
      "('Az-Mc-0125', datetime.datetime(2011, 5, 13, 0, 0), 'West', 'Ss-BF-004', 3.0, 24.0, 504.0, 222.0, 'Sunset', '40 Meter Aussie Round', 'Gel Booms', 32, 21, 'Howard', 'Shah', 7350.44, 'HoSh@gmail.com', '316 66th Blvd.', 'Kent', 981244.0, 282.0)\n",
      "('Az-Mc-0200', datetime.datetime(2011, 5, 6, 0, 0), 'South', 'Ss-BF-004', 3.0, 22.0, 462.0, 203.5, 'Sunset', '40 Meter Aussie Round', 'Gel Booms', 32, 21, 'Howard', 'Shah', 7350.44, 'HoSh@gmail.com', '316 66th Blvd.', 'Kent', 981244.0, 258.5)\n",
      "('Az-Mc-0355', datetime.datetime(2011, 3, 19, 0, 0), 'West', 'Ss-BF-004', 3.0, 45.0, 945.0, 416.25, 'Sunset', '40 Meter Aussie Round', 'Gel Booms', 32, 21, 'Howard', 'Shah', 7350.44, 'HoSh@gmail.com', '316 66th Blvd.', 'Kent', 981244.0, 528.75)\n",
      "('Az-Mc-0602', datetime.datetime(2011, 5, 3, 0, 0), 'MidWest', 'Ss-BF-004', 3.0, 17.0, 357.0, 157.25, 'Sunset', '40 Meter Aussie Round', 'Gel Booms', 32, 21, 'Howard', 'Shah', 7350.44, 'HoSh@gmail.com', '316 66th Blvd.', 'Kent', 981244.0, 199.75)\n",
      "('Az-Mc-0783', datetime.datetime(2011, 1, 8, 0, 0), 'MidWest', 'Ss-BF-004', 3.0, 30.0, 630.0, 277.5, 'Sunset', '40 Meter Aussie Round', 'Gel Booms', 32, 21, 'Howard', 'Shah', 7350.44, 'HoSh@gmail.com', '316 66th Blvd.', 'Kent', 981244.0, 352.5)\n",
      "('Az-Mc-0785', datetime.datetime(2011, 6, 19, 0, 0), 'West', 'Ss-BF-004', 3.0, 16.0, 336.0, 148.0, 'Sunset', '40 Meter Aussie Round', 'Gel Booms', 32, 21, 'Howard', 'Shah', 7350.44, 'HoSh@gmail.com', '316 66th Blvd.', 'Kent', 981244.0, 188.0)\n",
      "('Az-Mc-0009', datetime.datetime(2011, 6, 19, 0, 0), 'West', 'Ca-BF-002', 3.0, 55.0, 1265.0, 605.0, 'Carlota', '20 meter Trick Catch', 'Gel Booms', 25, 23, 'Howard', 'Shah', 7350.44, 'HoSh@gmail.com', '316 66th Blvd.', 'Kent', 981244.0, 660.0)\n",
      "('Az-Mc-0010', datetime.datetime(2011, 5, 17, 0, 0), 'MidWest', 'Ca-BF-002', 3.0, 39.0, 897.0, 429.0, 'Carlota', '20 meter Trick Catch', 'Gel Booms', 25, 23, 'Howard', 'Shah', 7350.44, 'HoSh@gmail.com', '316 66th Blvd.', 'Kent', 981244.0, 468.0)\n",
      "('Az-Mc-0272', datetime.datetime(2011, 6, 5, 0, 0), 'South', 'Ca-BF-002', 3.0, 60.0, 1380.0, 660.0, 'Carlota', '20 meter Trick Catch', 'Gel Booms', 25, 23, 'Howard', 'Shah', 7350.44, 'HoSh@gmail.com', '316 66th Blvd.', 'Kent', 981244.0, 720.0)\n",
      "('Az-Mc-0308', datetime.datetime(2011, 1, 4, 0, 0), 'South', 'Ca-BF-002', 3.0, 53.0, 1219.0, 583.0, 'Carlota', '20 meter Trick Catch', 'Gel Booms', 25, 23, 'Howard', 'Shah', 7350.44, 'HoSh@gmail.com', '316 66th Blvd.', 'Kent', 981244.0, 636.0)\n",
      "('Az-Mc-0501', datetime.datetime(2011, 1, 27, 0, 0), 'South', 'Ca-BF-002', 3.0, 20.0, 460.0, 220.0, 'Carlota', '20 meter Trick Catch', 'Gel Booms', 25, 23, 'Howard', 'Shah', 7350.44, 'HoSh@gmail.com', '316 66th Blvd.', 'Kent', 981244.0, 240.0)\n",
      "('Az-Mc-0554', datetime.datetime(2011, 2, 19, 0, 0), 'East', 'Ca-BF-002', 3.0, 56.0, 1288.0, 616.0, 'Carlota', '20 meter Trick Catch', 'Gel Booms', 25, 23, 'Howard', 'Shah', 7350.44, 'HoSh@gmail.com', '316 66th Blvd.', 'Kent', 981244.0, 672.0)\n",
      "('Az-Mc-0833', datetime.datetime(2011, 3, 24, 0, 0), 'South', 'Ca-BF-002', 3.0, 27.0, 621.0, 297.0, 'Carlota', '20 meter Trick Catch', 'Gel Booms', 25, 23, 'Howard', 'Shah', 7350.44, 'HoSh@gmail.com', '316 66th Blvd.', 'Kent', 981244.0, 324.0)\n",
      "('Az-Mc-0922', datetime.datetime(2011, 1, 28, 0, 0), 'East', 'Ca-BF-002', 3.0, 49.0, 1127.0, 539.0, 'Carlota', '20 meter Trick Catch', 'Gel Booms', 25, 23, 'Howard', 'Shah', 7350.44, 'HoSh@gmail.com', '316 66th Blvd.', 'Kent', 981244.0, 588.0)\n",
      "('Az-Mc-1008', datetime.datetime(2011, 2, 9, 0, 0), 'West', 'Ca-BF-002', 3.0, 35.0, 805.0, 385.0, 'Carlota', '20 meter Trick Catch', 'Gel Booms', 25, 23, 'Howard', 'Shah', 7350.44, 'HoSh@gmail.com', '316 66th Blvd.', 'Kent', 981244.0, 420.0)\n",
      "('Az-Mc-1040', datetime.datetime(2011, 5, 7, 0, 0), 'West', 'Ca-BF-002', 3.0, 36.0, 828.0, 396.0, 'Carlota', '20 meter Trick Catch', 'Gel Booms', 25, 23, 'Howard', 'Shah', 7350.44, 'HoSh@gmail.com', '316 66th Blvd.', 'Kent', 981244.0, 432.0)\n",
      "('Az-Mc-1118', datetime.datetime(2011, 4, 23, 0, 0), 'West', 'Ca-BF-002', 3.0, 44.0, 1012.0, 484.0, 'Carlota', '20 meter Trick Catch', 'Gel Booms', 25, 23, 'Howard', 'Shah', 7350.44, 'HoSh@gmail.com', '316 66th Blvd.', 'Kent', 981244.0, 528.0)\n",
      "('Az-Mc-0402', datetime.datetime(2011, 5, 25, 0, 0), 'East', 'Be-BF-001', 3.0, 51.0, 1122.0, 510.0, 'Bellen', '20 meter Juggler', 'Gel Booms', 24, 22, 'Howard', 'Shah', 7350.44, 'HoSh@gmail.com', '316 66th Blvd.', 'Kent', 981244.0, 612.0)\n",
      "('Az-Mc-0675', datetime.datetime(2011, 1, 19, 0, 0), 'South', 'Be-BF-001', 3.0, 26.0, 572.0, 260.0, 'Bellen', '20 meter Juggler', 'Gel Booms', 24, 22, 'Howard', 'Shah', 7350.44, 'HoSh@gmail.com', '316 66th Blvd.', 'Kent', 981244.0, 312.0)\n",
      "('Az-Mc-0708', datetime.datetime(2011, 6, 4, 0, 0), 'West', 'Be-BF-001', 3.0, 52.0, 1144.0, 520.0, 'Bellen', '20 meter Juggler', 'Gel Booms', 24, 22, 'Howard', 'Shah', 7350.44, 'HoSh@gmail.com', '316 66th Blvd.', 'Kent', 981244.0, 624.0)\n",
      "('Az-Mc-0768', datetime.datetime(2011, 6, 22, 0, 0), 'West', 'Be-BF-001', 3.0, 26.0, 572.0, 260.0, 'Bellen', '20 meter Juggler', 'Gel Booms', 24, 22, 'Howard', 'Shah', 7350.44, 'HoSh@gmail.com', '316 66th Blvd.', 'Kent', 981244.0, 312.0)\n",
      "('Az-Mc-0816', datetime.datetime(2011, 4, 30, 0, 0), 'South', 'Be-BF-001', 3.0, 43.0, 946.0, 430.0, 'Bellen', '20 meter Juggler', 'Gel Booms', 24, 22, 'Howard', 'Shah', 7350.44, 'HoSh@gmail.com', '316 66th Blvd.', 'Kent', 981244.0, 516.0)\n",
      "('Az-Mc-0880', datetime.datetime(2011, 2, 14, 0, 0), 'East', 'Be-BF-001', 3.0, 10.0, 220.0, 100.0, 'Bellen', '20 meter Juggler', 'Gel Booms', 24, 22, 'Howard', 'Shah', 7350.44, 'HoSh@gmail.com', '316 66th Blvd.', 'Kent', 981244.0, 120.0)\n",
      "('Az-Mc-0006', datetime.datetime(2011, 3, 2, 0, 0), 'West', 'Qu-BF-009', 1.0, 22.0, 594.0, 319.0, 'Quad', '70 Meter Aussie Round', 'Roger Perry', 28, 25, 'Danielle', 'Dowell', 4191.5599999999995, 'DaDo@gmail.com', '4817 13th St.', 'Tacoma', 981112.0, 275.0)\n",
      "('Az-Mc-0035', datetime.datetime(2011, 6, 3, 0, 0), 'MidWest', 'Qu-BF-009', 1.0, 21.0, 567.0, 304.5, 'Quad', '70 Meter Aussie Round', 'Roger Perry', 28, 25, 'Danielle', 'Dowell', 4191.5599999999995, 'DaDo@gmail.com', '4817 13th St.', 'Tacoma', 981112.0, 262.5)\n",
      "('Az-Mc-0457', datetime.datetime(2011, 5, 19, 0, 0), 'South', 'Qu-BF-009', 1.0, 54.0, 1458.0, 783.0, 'Quad', '70 Meter Aussie Round', 'Roger Perry', 28, 25, 'Danielle', 'Dowell', 4191.5599999999995, 'DaDo@gmail.com', '4817 13th St.', 'Tacoma', 981112.0, 675.0)\n",
      "('Az-Mc-0498', datetime.datetime(2011, 5, 2, 0, 0), 'South', 'Qu-BF-009', 1.0, 45.0, 1215.0, 652.5, 'Quad', '70 Meter Aussie Round', 'Roger Perry', 28, 25, 'Danielle', 'Dowell', 4191.5599999999995, 'DaDo@gmail.com', '4817 13th St.', 'Tacoma', 981112.0, 562.5)\n",
      "('Az-Mc-0506', datetime.datetime(2011, 6, 14, 0, 0), 'South', 'Qu-BF-009', 1.0, 40.0, 1080.0, 580.0, 'Quad', '70 Meter Aussie Round', 'Roger Perry', 28, 25, 'Danielle', 'Dowell', 4191.5599999999995, 'DaDo@gmail.com', '4817 13th St.', 'Tacoma', 981112.0, 500.0)\n",
      "('Az-Mc-1132', datetime.datetime(2011, 2, 15, 0, 0), 'East', 'Qu-BF-009', 1.0, 49.0, 1323.0, 710.5, 'Quad', '70 Meter Aussie Round', 'Roger Perry', 28, 25, 'Danielle', 'Dowell', 4191.5599999999995, 'DaDo@gmail.com', '4817 13th St.', 'Tacoma', 981112.0, 612.5)\n",
      "('Az-Mc-0104', datetime.datetime(2011, 6, 8, 0, 0), 'West', 'Su-BF-003', 1.0, 38.0, 722.0, 304.0, 'Sunshine', '30 meter Accuracy', 'Gel Booms', 27, 19, 'Danielle', 'Dowell', 4191.5599999999995, 'DaDo@gmail.com', '4817 13th St.', 'Tacoma', 981112.0, 418.0)\n",
      "('Az-Mc-0241', datetime.datetime(2011, 6, 28, 0, 0), 'East', 'Su-BF-003', 1.0, 56.0, 1064.0, 448.0, 'Sunshine', '30 meter Accuracy', 'Gel Booms', 27, 19, 'Danielle', 'Dowell', 4191.5599999999995, 'DaDo@gmail.com', '4817 13th St.', 'Tacoma', 981112.0, 616.0)\n",
      "('Az-Mc-0312', datetime.datetime(2011, 1, 11, 0, 0), 'MidWest', 'Su-BF-003', 1.0, 48.0, 912.0, 384.0, 'Sunshine', '30 meter Accuracy', 'Gel Booms', 27, 19, 'Danielle', 'Dowell', 4191.5599999999995, 'DaDo@gmail.com', '4817 13th St.', 'Tacoma', 981112.0, 528.0)\n",
      "('Az-Mc-0329', datetime.datetime(2011, 3, 2, 0, 0), 'MidWest', 'Su-BF-003', 1.0, 11.0, 209.0, 88.0, 'Sunshine', '30 meter Accuracy', 'Gel Booms', 27, 19, 'Danielle', 'Dowell', 4191.5599999999995, 'DaDo@gmail.com', '4817 13th St.', 'Tacoma', 981112.0, 121.0)\n",
      "('Az-Mc-0414', datetime.datetime(2011, 4, 16, 0, 0), 'West', 'Su-BF-003', 1.0, 36.0, 684.0, 288.0, 'Sunshine', '30 meter Accuracy', 'Gel Booms', 27, 19, 'Danielle', 'Dowell', 4191.5599999999995, 'DaDo@gmail.com', '4817 13th St.', 'Tacoma', 981112.0, 396.0)\n",
      "('Az-Mc-0703', datetime.datetime(2011, 3, 28, 0, 0), 'East', 'Su-BF-003', 1.0, 25.0, 475.0, 200.0, 'Sunshine', '30 meter Accuracy', 'Gel Booms', 27, 19, 'Danielle', 'Dowell', 4191.5599999999995, 'DaDo@gmail.com', '4817 13th St.', 'Tacoma', 981112.0, 275.0)\n",
      "('Az-Mc-0807', datetime.datetime(2011, 2, 7, 0, 0), 'West', 'Su-BF-003', 1.0, 36.0, 684.0, 288.0, 'Sunshine', '30 meter Accuracy', 'Gel Booms', 27, 19, 'Danielle', 'Dowell', 4191.5599999999995, 'DaDo@gmail.com', '4817 13th St.', 'Tacoma', 981112.0, 396.0)\n",
      "('Az-Mc-0913', datetime.datetime(2011, 1, 15, 0, 0), 'MidWest', 'Su-BF-003', 1.0, 6.0, 114.0, 48.0, 'Sunshine', '30 meter Accuracy', 'Gel Booms', 27, 19, 'Danielle', 'Dowell', 4191.5599999999995, 'DaDo@gmail.com', '4817 13th St.', 'Tacoma', 981112.0, 66.0)\n",
      "('Az-Mc-1089', datetime.datetime(2011, 4, 30, 0, 0), 'West', 'Su-BF-003', 1.0, 52.0, 988.0, 416.0, 'Sunshine', '30 meter Accuracy', 'Gel Booms', 27, 19, 'Danielle', 'Dowell', 4191.5599999999995, 'DaDo@gmail.com', '4817 13th St.', 'Tacoma', 981112.0, 572.0)\n",
      "('Az-Mc-0346', datetime.datetime(2011, 2, 27, 0, 0), 'MidWest', 'Ss-BF-004', 1.0, 51.0, 1071.0, 471.75, 'Sunset', '40 Meter Aussie Round', 'Gel Booms', 32, 21, 'Danielle', 'Dowell', 4191.5599999999995, 'DaDo@gmail.com', '4817 13th St.', 'Tacoma', 981112.0, 599.25)\n",
      "('Az-Mc-0421', datetime.datetime(2011, 6, 3, 0, 0), 'South', 'Ss-BF-004', 1.0, 55.0, 1155.0, 508.75, 'Sunset', '40 Meter Aussie Round', 'Gel Booms', 32, 21, 'Danielle', 'Dowell', 4191.5599999999995, 'DaDo@gmail.com', '4817 13th St.', 'Tacoma', 981112.0, 646.25)\n",
      "('Az-Mc-0452', datetime.datetime(2011, 6, 6, 0, 0), 'MidWest', 'Ss-BF-004', 1.0, 8.0, 168.0, 74.0, 'Sunset', '40 Meter Aussie Round', 'Gel Booms', 32, 21, 'Danielle', 'Dowell', 4191.5599999999995, 'DaDo@gmail.com', '4817 13th St.', 'Tacoma', 981112.0, 94.0)\n",
      "('Az-Mc-0556', datetime.datetime(2011, 2, 20, 0, 0), 'East', 'Ss-BF-004', 1.0, 27.0, 567.0, 249.75, 'Sunset', '40 Meter Aussie Round', 'Gel Booms', 32, 21, 'Danielle', 'Dowell', 4191.5599999999995, 'DaDo@gmail.com', '4817 13th St.', 'Tacoma', 981112.0, 317.25)\n",
      "('Az-Mc-0679', datetime.datetime(2011, 6, 11, 0, 0), 'South', 'Ss-BF-004', 1.0, 36.0, 756.0, 333.0, 'Sunset', '40 Meter Aussie Round', 'Gel Booms', 32, 21, 'Danielle', 'Dowell', 4191.5599999999995, 'DaDo@gmail.com', '4817 13th St.', 'Tacoma', 981112.0, 423.0)\n",
      "('Az-Mc-0819', datetime.datetime(2011, 6, 16, 0, 0), 'West', 'Ss-BF-004', 1.0, 23.0, 483.0, 212.75, 'Sunset', '40 Meter Aussie Round', 'Gel Booms', 32, 21, 'Danielle', 'Dowell', 4191.5599999999995, 'DaDo@gmail.com', '4817 13th St.', 'Tacoma', 981112.0, 270.25)\n"
     ]
    }
   ],
   "source": [
    "conx = pyodbc.connect(conn_str)\n",
    "\n",
    "# Truy vấn để hiển thị top 100 dòng đầu tiên\n",
    "query = f\"SELECT TOP 100 * FROM {table_name}\" # Hoặc sử dụng: \"SELECT * FROM {table_name} FETCH FIRST 100 ROWS ONLY\"\n",
    "\n",
    "# Thực hiện truy vấn và hiển thị kết quả\n",
    "cursor = conx.cursor()\n",
    "cursor.execute(query)\n",
    "\n",
    "for row in cursor.fetchall():\n",
    "    print(row)\n",
    "\n",
    "# Đóng kết nối pyodbc\n",
    "conx.close()\n",
    "\n",
    "\n",
    "\n",
    "\n",
    "\n"
   ]
  }
 ],
 "metadata": {
  "kernelspec": {
   "display_name": "Python 3",
   "language": "python",
   "name": "python3"
  },
  "language_info": {
   "codemirror_mode": {
    "name": "ipython",
    "version": 3
   },
   "file_extension": ".py",
   "mimetype": "text/x-python",
   "name": "python",
   "nbconvert_exporter": "python",
   "pygments_lexer": "ipython3",
   "version": "3.10.9"
  },
  "orig_nbformat": 4
 },
 "nbformat": 4,
 "nbformat_minor": 2
}
