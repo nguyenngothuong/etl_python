{
 "cells": [
  {
   "cell_type": "markdown",
   "metadata": {},
   "source": [
    "MÔ TẢ"
   ]
  },
  {
   "cell_type": "markdown",
   "metadata": {},
   "source": [
    "Bài tập tuần 2: ETL load file excel vào trong db\n",
    "File gồm có 3 sheet:\n",
    "load vào trong database nhé"
   ]
  },
  {
   "cell_type": "markdown",
   "metadata": {},
   "source": [
    "khởi tạo thư viện cần thiết"
   ]
  },
  {
   "cell_type": "code",
   "execution_count": null,
   "metadata": {},
   "outputs": [],
   "source": [
    "import pandas as pd\n",
    "import yaml\n",
    "import pyodbc\n",
    "from sqlalchemy import create_engine\n",
    "from prefect import flow, task, get_run_logger\n",
    "from prefect.tasks import task_input_hash\n",
    "from datetime import timedelta\n",
    "\n",
    "import sys\n",
    "sys.path.append(r\"G:/My Drive/HỌC TẬP DUE/NNT_năm 4 kì 1/DW & DM/config\")\n",
    "import mdl_db_connection"
   ]
  },
  {
   "cell_type": "code",
   "execution_count": null,
   "metadata": {},
   "outputs": [],
   "source": [
    "# C:\\Users\\admin\\anaconda3\\pkgs\\graphviz-2.50.0-hdb8b0d4_0\\Library\\include\\graphviz\n",
    "# C:\\Users\\admin\\anaconda3\\Lib\\site-packages\\sphinx\\templates\\graphviz\n",
    "# C:\\Users\\admin\\anaconda3\\pkgs\\sphinx-4.4.0-pyhd3eb1b0_0\\site-packages\\sphinx\\templates\\graphviz\n",
    "# C:\\Users\\admin\\anaconda3\\Lib\\site-packages\\graphviz\n",
    "# C:\\Users\\admin\\anaconda3\\Library\\include\\graphviz\n",
    "# C:\\Users\\admin\\anaconda3\\pkgs\\graphviz-2.50.0-hdb8b0d4_0\\Library\\bin\n",
    "# \"C:\\Users\\admin\\anaconda3\\pkgs\\graphviz-2.50.0-hdb8b0d4_0\\Library\\bin\""
   ]
  },
  {
   "cell_type": "markdown",
   "metadata": {},
   "source": [
    "## ETL"
   ]
  },
  {
   "cell_type": "markdown",
   "metadata": {},
   "source": [
    "### 2.1 extract data"
   ]
  },
  {
   "cell_type": "code",
   "execution_count": null,
   "metadata": {},
   "outputs": [],
   "source": [
    "@task(name=\"convert sheet to dataframe\", \n",
    "      description=\"do file excel có 3 sheet nên mình lấy luôn 3 sheet từ 1 file này và chuyển sang df\",\n",
    "      task_run_name=\"convert sheet to dataframe\",\n",
    "      cache_key_fn=task_input_hash, \n",
    "      cache_expiration=timedelta(days=1))\n",
    "def extract():\n",
    "    excel_file_path = r\"G:\\My Drive\\HỌC TẬP DUE\\NNT_năm 4 kì 1\\DW & DM\\ETL_Sale week 2\\ETL SALE PYTHON\\SaleDataset.xlsx\"\n",
    "    logger = get_run_logger()\n",
    "    logger.info(\"convert sheet ORDER to df\")\n",
    "    df_ORDER = pd.read_excel(excel_file_path, sheet_name=\"ORDER\")\n",
    "\n",
    "    logger.info(\"convert sheet CUSTOMER to df\")\n",
    "    df_CUSTOMER = pd.read_excel(excel_file_path, sheet_name=\"CUSTOMER\")\n",
    "\n",
    "    logger.info(\"convert sheet PRODUCT to df\")\n",
    "    df_PRODUCT = pd.read_excel(excel_file_path, sheet_name=\"PRODUCT\")\n",
    "    return df_ORDER, df_CUSTOMER, df_PRODUCT\n",
    "\n"
   ]
  },
  {
   "cell_type": "markdown",
   "metadata": {},
   "source": [
    "### 2.2 transform"
   ]
  },
  {
   "cell_type": "code",
   "execution_count": null,
   "metadata": {},
   "outputs": [],
   "source": [
    "@task(\n",
    "        name=\"merge join df & add column\", \n",
    "        description=\"yêu cầu là nối lại với nhau để tạo bảng lớn và thêm cột profit\",\n",
    "        task_run_name=\"merge joni df & add column\",\n",
    "        cache_key_fn=task_input_hash, \n",
    "        cache_expiration=timedelta(days=1)\n",
    "    )\n",
    "def transform_df(df_ORDER, df_CUSTOMER, df_PRODUCT):\n",
    "    logger = get_run_logger()\n",
    "    logger.info(\"Nối 2 bảng ORDER và Product, key ProductID\")\n",
    "    df_order_product = pd.merge(df_ORDER, df_PRODUCT, on='ProductID', how='outer')\n",
    "\n",
    "    logger.info(\"Nối 2 bảng ORDER_PRODUCT và CUSTOMER, key CustomerId\")\n",
    "    df_OPC = pd.merge(df_order_product, df_CUSTOMER, on='CustomerId', how='outer')\n",
    "\n",
    "    logger.info(\"Tạo thêm cột profit\")\n",
    "    df_OPC['Profit'] = df_OPC['Sales'] - df_OPC['COGS']\n",
    "    return df_OPC"
   ]
  },
  {
   "cell_type": "markdown",
   "metadata": {},
   "source": [
    "### 2.3 load dáta"
   ]
  },
  {
   "cell_type": "code",
   "execution_count": null,
   "metadata": {},
   "outputs": [],
   "source": [
    "@task(name=\"load df vào database\", \n",
    "      description=\"lưu vào db để sau sử dụng lại\", \n",
    "      task_run_name=\"load df vào databasei\",\n",
    "      cache_key_fn=task_input_hash, \n",
    "      cache_expiration=timedelta(days=1)\n",
    "    )\n",
    "def load(df_OPC):\n",
    "    logger = get_run_logger()\n",
    "    logger.info(\"Kết nối đến db\")\n",
    "    conn_str, engine = mdl_db_connection.connect_db()\n",
    "    conx = pyodbc.connect(conn_str) \n",
    "\n",
    "    # bảng muốn lưu trữ dữ liệu\n",
    "    table_name = 'ETL_SaleDataset_week2'\n",
    "    \n",
    "\n",
    "    #kiểm tra\n",
    "    try:\n",
    "      # Lưu DataFrame vào cơ sở dữ liệu\n",
    "      df_OPC.to_sql(table_name, con=engine, if_exists='replace', index=False)\n",
    "      conx.commit()\n",
    "      logger.info(f\"Đã tạo thành công bảng {table_name}\")\n",
    "    except Exception as e:\n",
    "      print(f\"Bị lỗi: {str(e)}\")\n",
    "    finally:\n",
    "      # Đóng kết nối pyodbc\n",
    "      conx.close()\n",
    "\n",
    "    "
   ]
  },
  {
   "cell_type": "markdown",
   "metadata": {},
   "source": [
    "## Quản lý flow"
   ]
  },
  {
   "cell_type": "code",
   "execution_count": null,
   "metadata": {},
   "outputs": [],
   "source": [
    "@flow(\n",
    "      name = \"FLOW ETL EXCEL TO DB - WEEK 2 - USING PREFECT PYTHON\"\n",
    "      , flow_run_name=\"ETL excel to db\"\n",
    "      , retries=1\n",
    "      , retry_delay_seconds=5\n",
    "      , log_prints=True\n",
    "      , description=\"Chạy hết kết hợp cả lấy dữ liệu từ 3 sheet trong 1 file excel, sau đó load vào pandas và xử lý cuối cùng đẩy về db\"\n",
    "      )\n",
    "def build_flow():\n",
    "    logger = get_run_logger()\n",
    "    logger.info(\"Thực hiện extract dữ liệu\")\n",
    "\n",
    "    df_ORDER, df_CUSTOMER, df_PRODUCT = extract()\n",
    "\n",
    "\n",
    "    logger.info(\"Thực hiện transform dữ liệu\")\n",
    "    df_OPC = transform_df(df_ORDER, df_CUSTOMER, df_PRODUCT)\n",
    "\n",
    "\n",
    "\n",
    "    logger.info(\"Load dữ liệu vào database\")\n",
    "    df = load(df_OPC)\n",
    "\n",
    "    return flow"
   ]
  },
  {
   "cell_type": "code",
   "execution_count": null,
   "metadata": {},
   "outputs": [],
   "source": [
    "if __name__ == \"__main__\":\n",
    "    flow = build_flow() \n",
    "\n",
    "# flow = build_flow() \n"
   ]
  },
  {
   "cell_type": "markdown",
   "metadata": {},
   "source": [
    "test tính năng"
   ]
  },
  {
   "cell_type": "markdown",
   "metadata": {},
   "source": [
    "khởi tạo"
   ]
  },
  {
   "cell_type": "code",
   "execution_count": null,
   "metadata": {},
   "outputs": [],
   "source": [
    "# import sys\n",
    "# !{sys.executable} -m pip install -U ydata-profiling[notebook]\n",
    "# !jupyter nbextension enable --py widgetsnbextension"
   ]
  },
  {
   "cell_type": "code",
   "execution_count": 34,
   "metadata": {},
   "outputs": [
    {
     "data": {
      "application/vnd.jupyter.widget-view+json": {
       "model_id": "bf55898adbc244059b0fadaf6b58631a",
       "version_major": 2,
       "version_minor": 0
      },
      "text/plain": [
       "Summarize dataset:   0%|          | 0/5 [00:00<?, ?it/s]"
      ]
     },
     "metadata": {},
     "output_type": "display_data"
    },
    {
     "data": {
      "application/vnd.jupyter.widget-view+json": {
       "model_id": "5e0312f1ec2b4c3e904a4add6165baa4",
       "version_major": 2,
       "version_minor": 0
      },
      "text/plain": [
       "Generate report structure:   0%|          | 0/1 [00:00<?, ?it/s]"
      ]
     },
     "metadata": {},
     "output_type": "display_data"
    },
    {
     "data": {
      "application/vnd.jupyter.widget-view+json": {
       "model_id": "14e116d1c37248219c646eaf40c61a7e",
       "version_major": 2,
       "version_minor": 0
      },
      "text/plain": [
       "Render widgets:   0%|          | 0/1 [00:00<?, ?it/s]"
      ]
     },
     "metadata": {},
     "output_type": "display_data"
    },
    {
     "data": {
      "application/vnd.jupyter.widget-view+json": {
       "model_id": "bd09673e61024f3ebdf2020cc61366df",
       "version_major": 2,
       "version_minor": 0
      },
      "text/plain": [
       "VBox(children=(Tab(children=(Tab(children=(GridBox(children=(VBox(children=(GridspecLayout(children=(HTML(valu…"
      ]
     },
     "metadata": {},
     "output_type": "display_data"
    }
   ],
   "source": [
    "\n",
    "from ydata_profiling import ProfileReport\n",
    "\n",
    "excel_file_path = r\"G:\\My Drive\\HỌC TẬP DUE\\NNT_năm 4 kì 1\\DW & DM\\ETL_Sale week 2\\ETL SALE PYTHON\\SaleDataset.xlsx\"\n",
    "df_ORDER = pd.read_excel(excel_file_path, sheet_name=\"ORDER\")\n",
    "\n",
    "profile = ProfileReport(df_ORDER, title=\"Pandas Profiling Report\")\n",
    "profile.to_widgets()\n",
    "# profile.to_notebook_iframe()\n",
    "\n"
   ]
  }
 ],
 "metadata": {
  "kernelspec": {
   "display_name": "Python 3",
   "language": "python",
   "name": "python3"
  },
  "language_info": {
   "codemirror_mode": {
    "name": "ipython",
    "version": 3
   },
   "file_extension": ".py",
   "mimetype": "text/x-python",
   "name": "python",
   "nbconvert_exporter": "python",
   "pygments_lexer": "ipython3",
   "version": "3.10.9"
  },
  "orig_nbformat": 4
 },
 "nbformat": 4,
 "nbformat_minor": 2
}
